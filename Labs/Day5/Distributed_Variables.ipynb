{
 "cells": [
  {
   "cell_type": "code",
   "execution_count": 1,
   "id": "93e95c4d-8961-4feb-aa0a-b7ee1d3c8833",
   "metadata": {},
   "outputs": [],
   "source": [
    "import findspark\n",
    "findspark.init()\n",
    "import pyspark\n",
    "from pyspark.sql import SparkSession\n",
    "\n",
    "spark = SparkSession.builder.getOrCreate()"
   ]
  },
  {
   "cell_type": "code",
   "execution_count": 2,
   "id": "824a8747-3b93-4097-a1a7-5f62b3756eb3",
   "metadata": {},
   "outputs": [],
   "source": [
    "my_collection = \"Training on Python, Spark, Scala, ML\"\\\n",
    "  .split(\" \")\n",
    "words = spark.sparkContext.parallelize(my_collection, 2)"
   ]
  },
  {
   "cell_type": "code",
   "execution_count": 8,
   "id": "d0927411-1bc8-43a6-b9b1-7bf699bae637",
   "metadata": {},
   "outputs": [],
   "source": [
    "supplementalData = {\"Spark\":1000, \"Training\":200,\n",
    "                    \"Big\":-300, \"Simple\":100}"
   ]
  },
  {
   "cell_type": "code",
   "execution_count": 9,
   "id": "62427616-267b-4e02-8468-7aaa91904712",
   "metadata": {},
   "outputs": [],
   "source": [
    "suppBroadcast = spark.sparkContext.broadcast(supplementalData)"
   ]
  },
  {
   "cell_type": "code",
   "execution_count": 10,
   "id": "c6fd425f-1005-4a65-b4dd-7088645e93e7",
   "metadata": {},
   "outputs": [
    {
     "data": {
      "text/plain": [
       "{'Spark': 1000, 'Training': 200, 'Big': -300, 'Simple': 100}"
      ]
     },
     "execution_count": 10,
     "metadata": {},
     "output_type": "execute_result"
    }
   ],
   "source": [
    "suppBroadcast.value"
   ]
  },
  {
   "cell_type": "code",
   "execution_count": 11,
   "id": "da6c94b9-e073-4066-b55d-04a097a5fc60",
   "metadata": {},
   "outputs": [
    {
     "data": {
      "text/plain": [
       "[('on', 0),\n",
       " ('Python,', 0),\n",
       " ('Spark,', 0),\n",
       " ('Scala,', 0),\n",
       " ('ML', 0),\n",
       " ('Training', 200)]"
      ]
     },
     "execution_count": 11,
     "metadata": {},
     "output_type": "execute_result"
    }
   ],
   "source": [
    "words.map(lambda word: (word, suppBroadcast.value.get(word, 0)))\\\n",
    "  .sortBy(lambda wordPair: wordPair[1])\\\n",
    "  .collect()"
   ]
  },
  {
   "cell_type": "code",
   "execution_count": 21,
   "id": "5479bc2a-1490-4821-bc93-5d9d2cb9963e",
   "metadata": {},
   "outputs": [
    {
     "name": "stdout",
     "output_type": "stream",
     "text": [
      " Volume in drive D is Windows\n",
      " Volume Serial Number is 949A-70EE\n",
      "\n",
      " Directory of D:\\22-Trngs\\2-Confirmed\\5-PySpark-56-hours-Geet\\GH\\Labs\\Day3-Day4\\data\\flight-data\\parquet\\2010-summary.parquet\n",
      "\n",
      "12-05-2021  15:40    <DIR>          .\n",
      "12-05-2021  15:40    <DIR>          ..\n",
      "12-05-2021  15:40             3,921 part-r-00000-1a9822ba-b8fb-4d8e-844a-ea30d0801b9e.gz.parquet\n",
      "12-05-2021  15:40                 0 _SUCCESS\n",
      "               2 File(s)          3,921 bytes\n",
      "               2 Dir(s)  1,790,909,059,072 bytes free\n"
     ]
    }
   ],
   "source": [
    "!dir \"..\\Day3-Day4\\data\\flight-data\\parquet\\2010-summary.parquet\""
   ]
  },
  {
   "cell_type": "code",
   "execution_count": 23,
   "id": "3da6ace5-7966-4050-8eeb-4b667d2494cc",
   "metadata": {},
   "outputs": [],
   "source": [
    "flights = spark.read\\\n",
    "  .parquet(\"../Day3-Day4/data/flight-data/parquet/2010-summary.parquet\")"
   ]
  },
  {
   "cell_type": "code",
   "execution_count": 24,
   "id": "e5d1d18b-37f7-421b-8e8e-84185e05ed79",
   "metadata": {},
   "outputs": [],
   "source": [
    "accChina = spark.sparkContext.accumulator(0)"
   ]
  },
  {
   "cell_type": "code",
   "execution_count": 25,
   "id": "1052d5c9-fcc8-4c3b-badd-1be49d6edf11",
   "metadata": {},
   "outputs": [],
   "source": [
    "def accChinaFunc(flight_row):\n",
    "  destination = flight_row[\"DEST_COUNTRY_NAME\"]\n",
    "  origin = flight_row[\"ORIGIN_COUNTRY_NAME\"]\n",
    "  if destination == \"China\":\n",
    "    accChina.add(flight_row[\"count\"])\n",
    "  if origin == \"China\":\n",
    "    accChina.add(flight_row[\"count\"])"
   ]
  },
  {
   "cell_type": "code",
   "execution_count": 26,
   "id": "ef27d53d-3b6f-4065-8bbd-e831be32ac13",
   "metadata": {},
   "outputs": [],
   "source": [
    "flights.foreach(lambda flight_row: accChinaFunc(flight_row))"
   ]
  },
  {
   "cell_type": "code",
   "execution_count": 27,
   "id": "b0942c4e-16ed-4516-b730-55c4c35505a3",
   "metadata": {},
   "outputs": [
    {
     "data": {
      "text/plain": [
       "953"
      ]
     },
     "execution_count": 27,
     "metadata": {},
     "output_type": "execute_result"
    }
   ],
   "source": [
    "accChina.value # 953"
   ]
  }
 ],
 "metadata": {
  "kernelspec": {
   "display_name": "Python 3 (ipykernel)",
   "language": "python",
   "name": "python3"
  },
  "language_info": {
   "codemirror_mode": {
    "name": "ipython",
    "version": 3
   },
   "file_extension": ".py",
   "mimetype": "text/x-python",
   "name": "python",
   "nbconvert_exporter": "python",
   "pygments_lexer": "ipython3",
   "version": "3.9.12"
  }
 },
 "nbformat": 4,
 "nbformat_minor": 5
}
