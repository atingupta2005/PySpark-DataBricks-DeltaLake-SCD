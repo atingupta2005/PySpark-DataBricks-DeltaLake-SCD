{
 "cells": [
  {
   "cell_type": "code",
   "execution_count": 1,
   "metadata": {
    "colab": {
     "base_uri": "https://localhost:8080/",
     "height": 54
    },
    "colab_type": "code",
    "executionInfo": {
     "elapsed": 1150,
     "status": "ok",
     "timestamp": 1591675894764,
     "user": {
      "displayName": "Atin Gupta",
      "photoUrl": "https://lh3.googleusercontent.com/a-/AOh14Gi1LyLILoESCrCvqA94FJEzlaNfumYdJznKg_osrQ=s64",
      "userId": "01235820350389977490"
     },
     "user_tz": 0
    },
    "id": "9OcNd0iJBtov",
    "outputId": "16283410-92de-46c6-d92c-f24c55f305ab"
   },
   "outputs": [
    {
     "name": "stdout",
     "output_type": "stream",
     "text": [
      "Good Morning Students From \n",
      "    Microsoft\n"
     ]
    }
   ],
   "source": [
    "# Smith is working on Strings\n",
    "# Different ways to initialize strings in python\n",
    "A=\"Good\"\n",
    "B='Morning'\n",
    "C=\"\"\"Students\"\"\"\n",
    "D='''From \n",
    "    Microsoft''' #can be multiline\n",
    "print(A,B,C,D)"
   ]
  },
  {
   "cell_type": "code",
   "execution_count": 6,
   "metadata": {
    "colab": {
     "base_uri": "https://localhost:8080/",
     "height": 128
    },
    "colab_type": "code",
    "executionInfo": {
     "elapsed": 907,
     "status": "error",
     "timestamp": 1591675988804,
     "user": {
      "displayName": "Atin Gupta",
      "photoUrl": "https://lh3.googleusercontent.com/a-/AOh14Gi1LyLILoESCrCvqA94FJEzlaNfumYdJznKg_osrQ=s64",
      "userId": "01235820350389977490"
     },
     "user_tz": 0
    },
    "id": "ddX-IlGPRpou",
    "outputId": "3fe0cf1b-4c7f-4a27-f491-e1b0df0259d4"
   },
   "outputs": [
    {
     "ename": "SyntaxError",
     "evalue": "ignored",
     "output_type": "error",
     "traceback": [
      "\u001b[0;36m  File \u001b[0;32m\"<ipython-input-6-c36f735faf40>\"\u001b[0;36m, line \u001b[0;32m1\u001b[0m\n\u001b[0;31m    A = ' Atin 'Gupta\"s '\u001b[0m\n\u001b[0m                    ^\u001b[0m\n\u001b[0;31mSyntaxError\u001b[0m\u001b[0;31m:\u001b[0m invalid syntax\n"
     ]
    }
   ],
   "source": [
    "A = ' Atin 'Gupta\"s '\n",
    "print(A)"
   ]
  },
  {
   "cell_type": "code",
   "execution_count": 7,
   "metadata": {
    "colab": {
     "base_uri": "https://localhost:8080/",
     "height": 34
    },
    "colab_type": "code",
    "executionInfo": {
     "elapsed": 977,
     "status": "ok",
     "timestamp": 1591676003612,
     "user": {
      "displayName": "Atin Gupta",
      "photoUrl": "https://lh3.googleusercontent.com/a-/AOh14Gi1LyLILoESCrCvqA94FJEzlaNfumYdJznKg_osrQ=s64",
      "userId": "01235820350389977490"
     },
     "user_tz": 0
    },
    "id": "rlocQ7fYSCdd",
    "outputId": "7fc1b0e5-2e2e-484f-e35b-345a9e449720"
   },
   "outputs": [
    {
     "name": "stdout",
     "output_type": "stream",
     "text": [
      " Atin 'Gupta\"s \n"
     ]
    }
   ],
   "source": [
    "A = \"\"\" Atin 'Gupta\"s \"\"\"\n",
    "print(A)"
   ]
  },
  {
   "cell_type": "code",
   "execution_count": 11,
   "metadata": {
    "colab": {
     "base_uri": "https://localhost:8080/",
     "height": 101
    },
    "colab_type": "code",
    "executionInfo": {
     "elapsed": 3773,
     "status": "ok",
     "timestamp": 1591676210394,
     "user": {
      "displayName": "Atin Gupta",
      "photoUrl": "https://lh3.googleusercontent.com/a-/AOh14Gi1LyLILoESCrCvqA94FJEzlaNfumYdJznKg_osrQ=s64",
      "userId": "01235820350389977490"
     },
     "user_tz": 0
    },
    "id": "ORsmCEx5Bto6",
    "outputId": "e5f923c2-cad5-4e22-904f-753276bc1b1c"
   },
   "outputs": [
    {
     "name": "stdout",
     "output_type": "stream",
     "text": [
      "Hello!\n",
      "Microsoft\n",
      "Cat goes?Hi\n",
      "HiCats ''\n",
      "C:\\Python32\\Lib\n"
     ]
    }
   ],
   "source": [
    "# He learns that there are various escape sequences provided in python that can be used to display quotes, newline, \n",
    "# Backslash\n",
    "A='Hello!\\nMicrosoft'\n",
    "print(A)\n",
    "B=input('Cat goes?')\n",
    "print('Cats \\'%s\\''%B)\n",
    "\n",
    "print(\"C:\\\\Python32\\\\Lib\")"
   ]
  },
  {
   "cell_type": "code",
   "execution_count": 17,
   "metadata": {
    "colab": {
     "base_uri": "https://localhost:8080/",
     "height": 50
    },
    "colab_type": "code",
    "executionInfo": {
     "elapsed": 6852,
     "status": "ok",
     "timestamp": 1591676480226,
     "user": {
      "displayName": "Atin Gupta",
      "photoUrl": "https://lh3.googleusercontent.com/a-/AOh14Gi1LyLILoESCrCvqA94FJEzlaNfumYdJznKg_osrQ=s64",
      "userId": "01235820350389977490"
     },
     "user_tz": 0
    },
    "id": "yZBn_gk0BtpB",
    "outputId": "bb0b2002-5567-4419-8d88-a852d3655e59"
   },
   "outputs": [
    {
     "name": "stdout",
     "output_type": "stream",
     "text": [
      "Names:amit,atin,ankit\n",
      "['amit', 'atin', 'ankit']\n"
     ]
    }
   ],
   "source": [
    "# John now takes names and surnames of all her friends as input, seperated by ,\n",
    "Names=input('Names:').split(',')\n",
    "print(Names)"
   ]
  },
  {
   "cell_type": "code",
   "execution_count": 15,
   "metadata": {
    "colab": {
     "base_uri": "https://localhost:8080/",
     "height": 34
    },
    "colab_type": "code",
    "executionInfo": {
     "elapsed": 995,
     "status": "ok",
     "timestamp": 1591676300018,
     "user": {
      "displayName": "Atin Gupta",
      "photoUrl": "https://lh3.googleusercontent.com/a-/AOh14Gi1LyLILoESCrCvqA94FJEzlaNfumYdJznKg_osrQ=s64",
      "userId": "01235820350389977490"
     },
     "user_tz": 0
    },
    "id": "sBCqx1pJBtpK",
    "outputId": "e19f72bf-429c-4465-826e-501f06e1dec4"
   },
   "outputs": [
    {
     "name": "stdout",
     "output_type": "stream",
     "text": [
      "Gupta\n"
     ]
    }
   ],
   "source": [
    "#wait a second! He didn't capitalize first letter of some names\n",
    "print(Names[1].capitalize())"
   ]
  },
  {
   "cell_type": "code",
   "execution_count": 16,
   "metadata": {
    "colab": {
     "base_uri": "https://localhost:8080/",
     "height": 50
    },
    "colab_type": "code",
    "executionInfo": {
     "elapsed": 21460,
     "status": "ok",
     "timestamp": 1591676451757,
     "user": {
      "displayName": "Atin Gupta",
      "photoUrl": "https://lh3.googleusercontent.com/a-/AOh14Gi1LyLILoESCrCvqA94FJEzlaNfumYdJznKg_osrQ=s64",
      "userId": "01235820350389977490"
     },
     "user_tz": 0
    },
    "id": "cswD4PQ_BtpR",
    "outputId": "b9ff3e29-40d5-47ee-c920-b6a7583a8e30"
   },
   "outputs": [
    {
     "name": "stdout",
     "output_type": "stream",
     "text": [
      "Surnames: gupta,goyal,john\n",
      "['gupta', 'goyal', 'john']\n"
     ]
    }
   ],
   "source": [
    "Surnames=input('Surnames: ').split(',')\n",
    "print(Surnames)"
   ]
  },
  {
   "cell_type": "code",
   "execution_count": 18,
   "metadata": {
    "colab": {
     "base_uri": "https://localhost:8080/",
     "height": 34
    },
    "colab_type": "code",
    "executionInfo": {
     "elapsed": 1291,
     "status": "ok",
     "timestamp": 1591676497192,
     "user": {
      "displayName": "Atin Gupta",
      "photoUrl": "https://lh3.googleusercontent.com/a-/AOh14Gi1LyLILoESCrCvqA94FJEzlaNfumYdJznKg_osrQ=s64",
      "userId": "01235820350389977490"
     },
     "user_tz": 0
    },
    "id": "fkO5pqGzBtpY",
    "outputId": "06561c01-b54e-44dc-f73f-a4ec04c15031"
   },
   "outputs": [
    {
     "name": "stdout",
     "output_type": "stream",
     "text": [
      "Atin Goyal\n"
     ]
    }
   ],
   "source": [
    "# The the full name of second friend will be\n",
    "print(Names[1].capitalize()+' '+Surnames[1].capitalize()) "
   ]
  },
  {
   "cell_type": "code",
   "execution_count": 20,
   "metadata": {
    "colab": {
     "base_uri": "https://localhost:8080/",
     "height": 84
    },
    "colab_type": "code",
    "executionInfo": {
     "elapsed": 884,
     "status": "ok",
     "timestamp": 1591676561262,
     "user": {
      "displayName": "Atin Gupta",
      "photoUrl": "https://lh3.googleusercontent.com/a-/AOh14Gi1LyLILoESCrCvqA94FJEzlaNfumYdJznKg_osrQ=s64",
      "userId": "01235820350389977490"
     },
     "user_tz": 0
    },
    "id": "vlBxu4BsBtpf",
    "outputId": "3bd979c0-b8fd-478f-ca1b-d19296344d0e"
   },
   "outputs": [
    {
     "name": "stdout",
     "output_type": "stream",
     "text": [
      "Quote 1 Startswith 'Happiness': True\n",
      "Quote 2 Startswith 'Happiness': False\n",
      "Quote 1 Endstwith 'gardens': False\n",
      "Quote 2 Endsswith 'gardens': True\n"
     ]
    }
   ],
   "source": [
    "# Let us see some more functions on strings\n",
    "quote1='''Happiness can be defined, in part at least, \n",
    "        as the fruit of the desire and ability to sacrifice \n",
    "        what we want now for what we want eventually\n",
    "     '''\n",
    "quote2='Sadness is but a wall between two gardens'\n",
    "print('Quote 1 Startswith \\'Happiness\\': %s'%quote1.startswith('Happiness'))\n",
    "print('Quote 2 Startswith \\'Happiness\\': %s'%quote2.startswith('Happiness'))\n",
    "print('Quote 1 Endstwith \\'gardens\\': %s'%quote1.endswith('gardens'))\n",
    "print('Quote 2 Endsswith \\'gardens\\': %s'%quote2.endswith('gardens'))"
   ]
  },
  {
   "cell_type": "code",
   "execution_count": 24,
   "metadata": {
    "colab": {
     "base_uri": "https://localhost:8080/",
     "height": 104
    },
    "colab_type": "code",
    "executionInfo": {
     "elapsed": 1023,
     "status": "ok",
     "timestamp": 1591676636129,
     "user": {
      "displayName": "Atin Gupta",
      "photoUrl": "https://lh3.googleusercontent.com/a-/AOh14Gi1LyLILoESCrCvqA94FJEzlaNfumYdJznKg_osrQ=s64",
      "userId": "01235820350389977490"
     },
     "user_tz": 0
    },
    "id": "qvaqMKMFUOOD",
    "outputId": "f177f3e8-0396-43dd-de6e-025e99011a1b"
   },
   "outputs": [
    {
     "name": "stdout",
     "output_type": "stream",
     "text": [
      "No Python documentation found for 'Happiness can be defined, in part at least, \\n        as the fruit of the desire and ability to sacrifice \\n        what we want now for what we want eventually'.\n",
      "Use help() to get the interactive help utility.\n",
      "Use help(str) for help on the str class.\n",
      "\n"
     ]
    }
   ],
   "source": [
    "help(quote1)"
   ]
  },
  {
   "cell_type": "code",
   "execution_count": 27,
   "metadata": {
    "colab": {
     "base_uri": "https://localhost:8080/",
     "height": 254
    },
    "colab_type": "code",
    "executionInfo": {
     "elapsed": 1284,
     "status": "ok",
     "timestamp": 1591676788838,
     "user": {
      "displayName": "Atin Gupta",
      "photoUrl": "https://lh3.googleusercontent.com/a-/AOh14Gi1LyLILoESCrCvqA94FJEzlaNfumYdJznKg_osrQ=s64",
      "userId": "01235820350389977490"
     },
     "user_tz": 0
    },
    "id": "tNxEcuB8Btpm",
    "outputId": "63c7879c-5681-4d39-8c5c-84a8118c5168"
   },
   "outputs": [
    {
     "name": "stdout",
     "output_type": "stream",
     "text": [
      "index of 'fruit': 60\n",
      "fruit\n",
      "fruit of the desire and ability to sacrifice \n",
      "        what we want now for what we want eventually\n",
      "     \n",
      "Happiness can be defined, in part at least, \n",
      "        as the \n",
      "     \n",
      "yllautneve tnaw ew tahw rof won tnaw ew tahw        \n",
      " ecifircas ot ytiliba dna erised eht fo tiurf eht sa        \n",
      " ,tsael ta trap ni ,denifed eb nac ssenippaH\n",
      "fruit of the desire and ability to sacrifice \n",
      "        what we want now for what we want \n"
     ]
    }
   ],
   "source": [
    "print(f'index of \\'fruit\\': {quote1.index(\"fruit\")}')\n",
    "print(quote1[60:65]) #slicing in strings\n",
    "print(quote1[60:])\n",
    "print(quote1[:60])\n",
    "print(quote1[::-1]) # reverse of string\n",
    "print(quote1[60:-16])"
   ]
  },
  {
   "cell_type": "code",
   "execution_count": 28,
   "metadata": {
    "colab": {
     "base_uri": "https://localhost:8080/",
     "height": 163
    },
    "colab_type": "code",
    "executionInfo": {
     "elapsed": 1104,
     "status": "ok",
     "timestamp": 1591676856549,
     "user": {
      "displayName": "Atin Gupta",
      "photoUrl": "https://lh3.googleusercontent.com/a-/AOh14Gi1LyLILoESCrCvqA94FJEzlaNfumYdJznKg_osrQ=s64",
      "userId": "01235820350389977490"
     },
     "user_tz": 0
    },
    "id": "zw9eAj5UBtpt",
    "outputId": "faa220fa-629e-4231-e013-1922e9a24b49"
   },
   "outputs": [
    {
     "name": "stdout",
     "output_type": "stream",
     "text": [
      "Happiness can be defined, in part at least, \n",
      "        as the fruit of the desire and ability to sacrifice \n",
      "        what we want now for what we want eventually\n",
      "     \n",
      "Happiness can be defined, in part at least, \n",
      "        as the result of the desire and ability to sacrifice \n",
      "        what we want now for what we want eventually\n",
      "     \n"
     ]
    }
   ],
   "source": [
    "quote1.replace('fruit','result')\n",
    "print(quote1) #no change why? Strings are immutable we need to assign to new one\n",
    "quote3=quote1.replace('fruit','result')\n",
    "print(quote3)"
   ]
  },
  {
   "cell_type": "code",
   "execution_count": 30,
   "metadata": {
    "colab": {
     "base_uri": "https://localhost:8080/",
     "height": 72
    },
    "colab_type": "code",
    "executionInfo": {
     "elapsed": 3841,
     "status": "ok",
     "timestamp": 1591676903790,
     "user": {
      "displayName": "Atin Gupta",
      "photoUrl": "https://lh3.googleusercontent.com/a-/AOh14Gi1LyLILoESCrCvqA94FJEzlaNfumYdJznKg_osrQ=s64",
      "userId": "01235820350389977490"
     },
     "user_tz": 0
    },
    "id": "UpxhOhARBtpz",
    "outputId": "3ce50c2e-139b-45f4-800a-c59dffb46ba0"
   },
   "outputs": [
    {
     "name": "stdout",
     "output_type": "stream",
     "text": [
      "String:ABC\n",
      "False\n",
      "True\n"
     ]
    }
   ],
   "source": [
    "# Smith wants to find out whether the given string is a number or text\n",
    "# if its text, he wants to change the case\n",
    "\n",
    "text=input('String:')\n",
    "print(text.isnumeric())\n",
    "print(text.isalpha())"
   ]
  },
  {
   "cell_type": "code",
   "execution_count": 32,
   "metadata": {
    "colab": {
     "base_uri": "https://localhost:8080/",
     "height": 54
    },
    "colab_type": "code",
    "executionInfo": {
     "elapsed": 964,
     "status": "ok",
     "timestamp": 1591676919435,
     "user": {
      "displayName": "Atin Gupta",
      "photoUrl": "https://lh3.googleusercontent.com/a-/AOh14Gi1LyLILoESCrCvqA94FJEzlaNfumYdJznKg_osrQ=s64",
      "userId": "01235820350389977490"
     },
     "user_tz": 0
    },
    "id": "GMv-4BQSBtp5",
    "outputId": "77fcd7c1-ba0c-49fa-8b10-7e9cffb93cf5"
   },
   "outputs": [
    {
     "name": "stdout",
     "output_type": "stream",
     "text": [
      "True\n",
      "False\n"
     ]
    }
   ],
   "source": [
    "print(text.isupper())\n",
    "print(text.islower())"
   ]
  },
  {
   "cell_type": "code",
   "execution_count": 33,
   "metadata": {
    "colab": {
     "base_uri": "https://localhost:8080/",
     "height": 35
    },
    "colab_type": "code",
    "executionInfo": {
     "elapsed": 950,
     "status": "ok",
     "timestamp": 1591676924251,
     "user": {
      "displayName": "Atin Gupta",
      "photoUrl": "https://lh3.googleusercontent.com/a-/AOh14Gi1LyLILoESCrCvqA94FJEzlaNfumYdJznKg_osrQ=s64",
      "userId": "01235820350389977490"
     },
     "user_tz": 0
    },
    "id": "5mhv1OEkBtqB",
    "outputId": "5e2d28c3-284c-43bb-e8e2-ab8b05d566de"
   },
   "outputs": [
    {
     "name": "stdout",
     "output_type": "stream",
     "text": [
      "ABC\n"
     ]
    }
   ],
   "source": [
    "#upper will change the case to uppercase, lower for lowercase and swapcase function will change case of every character\n",
    "print(text.upper())"
   ]
  },
  {
   "cell_type": "code",
   "execution_count": 36,
   "metadata": {
    "colab": {
     "base_uri": "https://localhost:8080/",
     "height": 72
    },
    "colab_type": "code",
    "executionInfo": {
     "elapsed": 6866,
     "status": "ok",
     "timestamp": 1591677003027,
     "user": {
      "displayName": "Atin Gupta",
      "photoUrl": "https://lh3.googleusercontent.com/a-/AOh14Gi1LyLILoESCrCvqA94FJEzlaNfumYdJznKg_osrQ=s64",
      "userId": "01235820350389977490"
     },
     "user_tz": 0
    },
    "id": "9JjB4142BtqJ",
    "outputId": "1b8a899d-450b-4520-c4f6-a12612ae61ce"
   },
   "outputs": [
    {
     "name": "stdout",
     "output_type": "stream",
     "text": [
      "age 12\n",
      "name \n",
      "my age is: 12 and name is :\n"
     ]
    }
   ],
   "source": [
    "# Format Function\n",
    "print(\"my age is: {0} and name is :{1}\".format(input(\"age \"),input(\"name \")))"
   ]
  },
  {
   "cell_type": "code",
   "execution_count": null,
   "metadata": {
    "colab": {},
    "colab_type": "code",
    "id": "Nn7wYipIV4nV"
   },
   "outputs": [],
   "source": [
    "# Format Function\n",
    "print(\"my age is: {1} and name is :{0}\".format(input(\"age \"),input(\"name \")))"
   ]
  },
  {
   "cell_type": "code",
   "execution_count": 37,
   "metadata": {
    "colab": {
     "base_uri": "https://localhost:8080/",
     "height": 35
    },
    "colab_type": "code",
    "executionInfo": {
     "elapsed": 1073,
     "status": "ok",
     "timestamp": 1591677025511,
     "user": {
      "displayName": "Atin Gupta",
      "photoUrl": "https://lh3.googleusercontent.com/a-/AOh14Gi1LyLILoESCrCvqA94FJEzlaNfumYdJznKg_osrQ=s64",
      "userId": "01235820350389977490"
     },
     "user_tz": 0
    },
    "id": "P1PZa8V0BtqP",
    "outputId": "e8ce1fd7-746f-4b18-a0d4-be54171eea0e"
   },
   "outputs": [
    {
     "name": "stdout",
     "output_type": "stream",
     "text": [
      "<class 'str'>\n"
     ]
    }
   ],
   "source": [
    "# Encode and Decode Function\n",
    "## SENDER SIDE\n",
    "str1='Microsoft'\n",
    "print(type(str1))\n"
   ]
  },
  {
   "cell_type": "code",
   "execution_count": 39,
   "metadata": {
    "colab": {
     "base_uri": "https://localhost:8080/",
     "height": 54
    },
    "colab_type": "code",
    "executionInfo": {
     "elapsed": 933,
     "status": "ok",
     "timestamp": 1591677091878,
     "user": {
      "displayName": "Atin Gupta",
      "photoUrl": "https://lh3.googleusercontent.com/a-/AOh14Gi1LyLILoESCrCvqA94FJEzlaNfumYdJznKg_osrQ=s64",
      "userId": "01235820350389977490"
     },
     "user_tz": 0
    },
    "id": "6pAruWIaV_hs",
    "outputId": "f7bf72f1-562b-43fc-cc51-14a1eda3f2d9"
   },
   "outputs": [
    {
     "name": "stdout",
     "output_type": "stream",
     "text": [
      "b'Microsoft'\n",
      "<class 'bytes'>\n"
     ]
    }
   ],
   "source": [
    "str2=str1.encode('utf-8')\n",
    "print(str2)\n",
    "print(type(str2))\n",
    "\n"
   ]
  },
  {
   "cell_type": "code",
   "execution_count": null,
   "metadata": {
    "colab": {},
    "colab_type": "code",
    "id": "vMMs23NnWPwx"
   },
   "outputs": [],
   "source": [
    "str3 = b\"Atin\""
   ]
  },
  {
   "cell_type": "code",
   "execution_count": 42,
   "metadata": {
    "colab": {
     "base_uri": "https://localhost:8080/",
     "height": 35
    },
    "colab_type": "code",
    "executionInfo": {
     "elapsed": 925,
     "status": "ok",
     "timestamp": 1591677113379,
     "user": {
      "displayName": "Atin Gupta",
      "photoUrl": "https://lh3.googleusercontent.com/a-/AOh14Gi1LyLILoESCrCvqA94FJEzlaNfumYdJznKg_osrQ=s64",
      "userId": "01235820350389977490"
     },
     "user_tz": 0
    },
    "id": "cdBwtCthWSov",
    "outputId": "bf45420a-60ad-4901-af7a-cd16dea2af55"
   },
   "outputs": [
    {
     "data": {
      "text/plain": [
       "bytes"
      ]
     },
     "execution_count": 42,
     "metadata": {
      "tags": []
     },
     "output_type": "execute_result"
    }
   ],
   "source": [
    "type(str3)"
   ]
  },
  {
   "cell_type": "code",
   "execution_count": 43,
   "metadata": {
    "colab": {
     "base_uri": "https://localhost:8080/",
     "height": 35
    },
    "colab_type": "code",
    "executionInfo": {
     "elapsed": 1269,
     "status": "ok",
     "timestamp": 1591677119573,
     "user": {
      "displayName": "Atin Gupta",
      "photoUrl": "https://lh3.googleusercontent.com/a-/AOh14Gi1LyLILoESCrCvqA94FJEzlaNfumYdJznKg_osrQ=s64",
      "userId": "01235820350389977490"
     },
     "user_tz": 0
    },
    "id": "tkvXrTpLWVA1",
    "outputId": "c5ea6478-3dc5-4796-e148-ba2451cb9730"
   },
   "outputs": [
    {
     "name": "stdout",
     "output_type": "stream",
     "text": [
      "b'Atin'\n"
     ]
    }
   ],
   "source": [
    "print(str3)"
   ]
  },
  {
   "cell_type": "code",
   "execution_count": 44,
   "metadata": {
    "colab": {
     "base_uri": "https://localhost:8080/",
     "height": 54
    },
    "colab_type": "code",
    "executionInfo": {
     "elapsed": 908,
     "status": "ok",
     "timestamp": 1591677207261,
     "user": {
      "displayName": "Atin Gupta",
      "photoUrl": "https://lh3.googleusercontent.com/a-/AOh14Gi1LyLILoESCrCvqA94FJEzlaNfumYdJznKg_osrQ=s64",
      "userId": "01235820350389977490"
     },
     "user_tz": 0
    },
    "id": "RX5pIZLdC_IB",
    "outputId": "f6925671-3dfe-4782-e6e2-82a1cd101620"
   },
   "outputs": [
    {
     "name": "stdout",
     "output_type": "stream",
     "text": [
      "Microsoft\n",
      "<class 'str'>\n"
     ]
    }
   ],
   "source": [
    "## RECEIVER SIDE\n",
    "result=str2.decode('utf-8')\n",
    "print(result)\n",
    "print(type(result))\n"
   ]
  },
  {
   "cell_type": "code",
   "execution_count": null,
   "metadata": {
    "colab": {
     "base_uri": "https://localhost:8080/",
     "height": 214
    },
    "colab_type": "code",
    "executionInfo": {
     "elapsed": 2507,
     "status": "error",
     "timestamp": 1591604951521,
     "user": {
      "displayName": "Atin Gupta",
      "photoUrl": "https://lh3.googleusercontent.com/a-/AOh14Gi1LyLILoESCrCvqA94FJEzlaNfumYdJznKg_osrQ=s64",
      "userId": "01235820350389977490"
     },
     "user_tz": -330
    },
    "id": "jPGoRB-XBtqW",
    "outputId": "0823422e-f8ec-40a5-963e-188bc63da675"
   },
   "outputs": [
    {
     "name": "stdout",
     "output_type": "stream",
     "text": [
      "-1\n"
     ]
    },
    {
     "ename": "ValueError",
     "evalue": "ignored",
     "output_type": "error",
     "traceback": [
      "\u001b[0;31m---------------------------------------------------------------------------\u001b[0m",
      "\u001b[0;31mValueError\u001b[0m                                Traceback (most recent call last)",
      "\u001b[0;32m<ipython-input-4-701ba24c11bb>\u001b[0m in \u001b[0;36m<module>\u001b[0;34m()\u001b[0m\n\u001b[1;32m      2\u001b[0m \u001b[0;34m\u001b[0m\u001b[0m\n\u001b[1;32m      3\u001b[0m \u001b[0mprint\u001b[0m\u001b[0;34m(\u001b[0m\u001b[0;34m'Microsoft'\u001b[0m\u001b[0;34m.\u001b[0m\u001b[0mfind\u001b[0m\u001b[0;34m(\u001b[0m\u001b[0;34m'x'\u001b[0m\u001b[0;34m)\u001b[0m\u001b[0;34m)\u001b[0m  \u001b[0;31m#returns -1 if missing\u001b[0m\u001b[0;34m\u001b[0m\u001b[0;34m\u001b[0m\u001b[0m\n\u001b[0;32m----> 4\u001b[0;31m \u001b[0mprint\u001b[0m\u001b[0;34m(\u001b[0m\u001b[0;34m'Microsoft'\u001b[0m\u001b[0;34m.\u001b[0m\u001b[0mindex\u001b[0m\u001b[0;34m(\u001b[0m\u001b[0;34m'x'\u001b[0m\u001b[0;34m)\u001b[0m\u001b[0;34m)\u001b[0m  \u001b[0;31m# returns value error if missing\u001b[0m\u001b[0;34m\u001b[0m\u001b[0;34m\u001b[0m\u001b[0m\n\u001b[0m",
      "\u001b[0;31mValueError\u001b[0m: substring not found"
     ]
    }
   ],
   "source": [
    "## Find vs Index\n",
    "print('Microsoft'.find('x'))  #returns -1 if missing\n",
    "print('Microsoft'.index('x'))  # returns value error if missing"
   ]
  },
  {
   "cell_type": "code",
   "execution_count": 45,
   "metadata": {
    "colab": {
     "base_uri": "https://localhost:8080/",
     "height": 35
    },
    "colab_type": "code",
    "executionInfo": {
     "elapsed": 944,
     "status": "ok",
     "timestamp": 1591677555168,
     "user": {
      "displayName": "Atin Gupta",
      "photoUrl": "https://lh3.googleusercontent.com/a-/AOh14Gi1LyLILoESCrCvqA94FJEzlaNfumYdJznKg_osrQ=s64",
      "userId": "01235820350389977490"
     },
     "user_tz": 0
    },
    "id": "OQFadaB8DC9d",
    "outputId": "3154f9df-96ca-40ab-fe5d-84c65eb0f915"
   },
   "outputs": [
    {
     "data": {
      "text/plain": [
       "b'eka'"
      ]
     },
     "execution_count": 45,
     "metadata": {
      "tags": []
     },
     "output_type": "execute_result"
    }
   ],
   "source": [
    "str2[4:12]"
   ]
  },
  {
   "cell_type": "code",
   "execution_count": null,
   "metadata": {
    "colab": {},
    "colab_type": "code",
    "id": "OeR-rT6kYA28"
   },
   "outputs": [],
   "source": []
  }
 ],
 "metadata": {
  "colab": {
   "collapsed_sections": [],
   "name": "983_m2_Demo4_String_v1.0.ipynb",
   "provenance": []
  },
  "kernelspec": {
   "display_name": "Python 3 (ipykernel)",
   "language": "python",
   "name": "python3"
  },
  "language_info": {
   "codemirror_mode": {
    "name": "ipython",
    "version": 3
   },
   "file_extension": ".py",
   "mimetype": "text/x-python",
   "name": "python",
   "nbconvert_exporter": "python",
   "pygments_lexer": "ipython3",
   "version": "3.9.12"
  }
 },
 "nbformat": 4,
 "nbformat_minor": 4
}
