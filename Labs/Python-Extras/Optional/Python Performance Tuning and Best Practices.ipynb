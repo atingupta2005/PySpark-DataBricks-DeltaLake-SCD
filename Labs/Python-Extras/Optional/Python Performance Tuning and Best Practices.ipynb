{
 "cells": [
  {
   "cell_type": "markdown",
   "metadata": {},
   "source": [
    "# Go for built-in functions"
   ]
  },
  {
   "cell_type": "markdown",
   "metadata": {},
   "source": [
    "You can write efficient code in Python, but it’s very hard to beat built-in functions (written in C). They are very fast.\n",
    "\n",
    "Refer to https://docs.python.org/3/library/functions.html"
   ]
  },
  {
   "cell_type": "markdown",
   "metadata": {},
   "source": [
    "# Use Python multiple assignment to swap variables\n"
   ]
  },
  {
   "cell_type": "code",
   "execution_count": null,
   "metadata": {},
   "outputs": [],
   "source": [
    "x = 5\n",
    "y = 6\n",
    "\n",
    "# This is elegant and faster in Python:\n",
    "x, y = y, x\n",
    "\n",
    "\n",
    "print(f\"x: {x}\")\n",
    "print(f\"y: {y}\")\n",
    "\n",
    "\n",
    "# This is slower:\n",
    "temp = x\n",
    "x = y\n",
    "y = temp\n",
    "\n",
    "\n",
    "print(f\"x: {x}\")\n",
    "print(f\"y: {y}\")\n"
   ]
  },
  {
   "cell_type": "markdown",
   "metadata": {},
   "source": [
    "# Use local variable if possible:\n",
    "## Python is faster retrieving a local variable than retrieving a global variable. That is, avoid the “global” keyword."
   ]
  },
  {
   "cell_type": "markdown",
   "metadata": {},
   "source": [
    "# Use “in” if possible:"
   ]
  },
  {
   "cell_type": "code",
   "execution_count": null,
   "metadata": {},
   "outputs": [],
   "source": [
    "# To check membership in general, use the “in” keyword. It is clean and fast.\n",
    "\n",
    "sequence = \"Atin Gupta\"\n",
    "key = \"Gupta\"\n",
    "if (key in sequence):\n",
    "    print (\"found\")n"
   ]
  },
  {
   "cell_type": "code",
   "execution_count": null,
   "metadata": {},
   "outputs": [],
   "source": [
    "l1 = [1,2,3]"
   ]
  },
  {
   "cell_type": "code",
   "execution_count": null,
   "metadata": {},
   "outputs": [],
   "source": [
    "x =1\n",
    "x in l1"
   ]
  },
  {
   "cell_type": "code",
   "execution_count": null,
   "metadata": {},
   "outputs": [],
   "source": [
    "def sum (x, y):\n",
    "    import numpy\n",
    "    "
   ]
  },
  {
   "cell_type": "markdown",
   "metadata": {},
   "source": [
    "# Speed up by lazy importing\n"
   ]
  },
  {
   "cell_type": "markdown",
   "metadata": {},
   "source": [
    "## Move the “import” statement into function so that you only use import when necessary. \n",
    "## In other words, if some modules are not needed right away, import them later. \n",
    "\n",
    "## For example, you can speed up your program by not importing a long list of modules at startup. \n",
    "## This technique does not enhance the overall performance. It helps you distribute the loading time for modules more evenly.\n"
   ]
  },
  {
   "cell_type": "markdown",
   "metadata": {},
   "source": [
    "# Use list comprehension\n"
   ]
  },
  {
   "cell_type": "code",
   "execution_count": null,
   "metadata": {},
   "outputs": [],
   "source": [
    "# Bad way\n",
    "cube_numbers = []\n",
    "for n in range(0,10):\n",
    "    if n % 2 == 1:\n",
    "      cube_numbers.append(n**3)"
   ]
  },
  {
   "cell_type": "code",
   "execution_count": null,
   "metadata": {},
   "outputs": [],
   "source": [
    "# In contrast, a list comprehension approach would just be one line\n",
    "\n",
    "cube_numbers = [n**3 for n in range(1,10) if n%2 == 1]"
   ]
  },
  {
   "cell_type": "code",
   "execution_count": null,
   "metadata": {},
   "outputs": [],
   "source": [
    "def my_counter():\n",
    "    i = 1\n",
    "    \n",
    "    while(i < 100):\n",
    "        i = i + 1\n",
    "    \n",
    "        yield i"
   ]
  },
  {
   "cell_type": "code",
   "execution_count": null,
   "metadata": {},
   "outputs": [],
   "source": [
    "cnt = my_counter()"
   ]
  },
  {
   "cell_type": "code",
   "execution_count": null,
   "metadata": {},
   "outputs": [],
   "source": [
    "cnt = my_counter()"
   ]
  },
  {
   "cell_type": "code",
   "execution_count": null,
   "metadata": {},
   "outputs": [],
   "source": [
    "next(cnt)"
   ]
  },
  {
   "cell_type": "markdown",
   "metadata": {},
   "source": [
    "# Use Python generator to get value on demand\n",
    "## This could also save memory and improve performance. \n",
    "## If you are streaming video, you can send a chunk of bytes but not the entire stream.\n"
   ]
  },
  {
   "cell_type": "code",
   "execution_count": null,
   "metadata": {},
   "outputs": [],
   "source": [
    "# Here’s an example you might use when web scraping and crawling recursively.\n",
    "\n",
    "import requests\n",
    "import re\n",
    "\n",
    "def get_pages(link):\n",
    "  pages_to_visit = []\n",
    "  pages_to_visit.append(link)\n",
    "  pattern = re.compile('https?')\n",
    "  while pages_to_visit:\n",
    "    current_page = pages_to_visit.pop(0)\n",
    "    page = requests.get(current_page)\n",
    "    for url in re.findall('<a href=\"([^\"]+)\">', str(page.content)):\n",
    "      if url[0] == '/':\n",
    "        url = current_page + url[1:]\n",
    "      if pattern.match(url):\n",
    "        pages_to_visit.append(url)\n",
    "    yield current_page\n"
   ]
  },
  {
   "cell_type": "code",
   "execution_count": null,
   "metadata": {},
   "outputs": [],
   "source": [
    "webpage = get_pages('https://in.yahoo.com/?p=us')\n",
    "for result in webpage:\n",
    "  print(result)"
   ]
  },
  {
   "cell_type": "markdown",
   "metadata": {},
   "source": [
    "# Use dict and set to test membership\n",
    "\n",
    "## Python is very fast at checking if an element exists in a dicitonary or in a set. \n",
    "## It is because dict and set are implemented using hash table. \n",
    "## The lookup can be as fast as O(1). \n",
    "## Therefore, if you need to check membership very often, use dict or set as your container.."
   ]
  },
  {
   "cell_type": "code",
   "execution_count": null,
   "metadata": {},
   "outputs": [],
   "source": [
    "mylist = list(range(1,200000))"
   ]
  },
  {
   "cell_type": "code",
   "execution_count": null,
   "metadata": {},
   "outputs": [],
   "source": [
    "%%timeit\n",
    "if 4 in mylist:\n",
    "    pass"
   ]
  },
  {
   "cell_type": "code",
   "execution_count": null,
   "metadata": {},
   "outputs": [],
   "source": [
    "myset = set(range(1,200000)) # Faster, check membership with set:"
   ]
  },
  {
   "cell_type": "code",
   "execution_count": null,
   "metadata": {},
   "outputs": [],
   "source": [
    "%%timeit\n",
    "if 4 in myset:\n",
    "    pass"
   ]
  },
  {
   "cell_type": "code",
   "execution_count": null,
   "metadata": {},
   "outputs": [],
   "source": [
    "# Remember to use multiple assignment.\n",
    "first_name, last_name, city = \"Kevin\", \"Cunningham\", \"Brighton\""
   ]
  },
  {
   "cell_type": "markdown",
   "metadata": {},
   "source": [
    "# Use join() to concatenate strings.\n"
   ]
  },
  {
   "cell_type": "code",
   "execution_count": null,
   "metadata": {},
   "outputs": [],
   "source": [
    "# Bad way\n",
    "new = \"This\" + \"is\" + \"going\" + \"to\" + \"require\" + \"a\" + \"new\" + \"string\" + \"for\" + \"every\" + \"word\"\n",
    "print(new)"
   ]
  },
  {
   "cell_type": "code",
   "execution_count": null,
   "metadata": {},
   "outputs": [],
   "source": [
    "# Pythonic way\n",
    "new = \" \".join([\"This\", \"will\", \"only\", \"create\", \"one\", \"string\", \"and\", \"we\", \"can\", \"add\", \"spaces.\"])\n",
    "print(new)"
   ]
  },
  {
   "cell_type": "markdown",
   "metadata": {},
   "source": [
    "# Keep up-to-date on the latest Python releases"
   ]
  },
  {
   "cell_type": "markdown",
   "metadata": {},
   "source": [
    "# Use Timeit"
   ]
  }
 ],
 "metadata": {
  "kernelspec": {
   "display_name": "Python 3 (ipykernel)",
   "language": "python",
   "name": "python3"
  },
  "language_info": {
   "codemirror_mode": {
    "name": "ipython",
    "version": 3
   },
   "file_extension": ".py",
   "mimetype": "text/x-python",
   "name": "python",
   "nbconvert_exporter": "python",
   "pygments_lexer": "ipython3",
   "version": "3.9.12"
  }
 },
 "nbformat": 4,
 "nbformat_minor": 4
}
